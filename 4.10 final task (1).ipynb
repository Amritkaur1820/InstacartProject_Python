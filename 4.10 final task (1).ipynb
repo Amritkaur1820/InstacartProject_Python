{
 "cells": [
  {
   "cell_type": "code",
   "execution_count": 1,
   "id": "60041e46",
   "metadata": {},
   "outputs": [],
   "source": [
    "import pandas as pd\n",
    "import numpy as np\n",
    "import os\n",
    "import matplotlib.pyplot as plt\n",
    "import seaborn as sns\n",
    "import scipy"
   ]
  },
  {
   "cell_type": "code",
   "execution_count": 2,
   "id": "633b4778",
   "metadata": {},
   "outputs": [],
   "source": [
    "path = r'C:\\Users\\mande\\OneDrive\\Documents\\Instacart Basket folder 20th April 2023'"
   ]
  },
  {
   "cell_type": "markdown",
   "id": "965fcd65",
   "metadata": {},
   "source": [
    "Part 1 \n",
    "step 1\n",
    "Import the data set you exported in Exercise 4.9 into a new Jupyter notebook. This should be the merged version of your data that contains the new customers column."
   ]
  },
  {
   "cell_type": "code",
   "execution_count": 3,
   "id": "859c4eb8",
   "metadata": {},
   "outputs": [],
   "source": [
    "df_all_merge = pd.read_pickle(os.path.join(path, 'Data', 'Prepared data', '4.9_df_merged'))"
   ]
  },
  {
   "cell_type": "code",
   "execution_count": 4,
   "id": "d911e51b",
   "metadata": {},
   "outputs": [],
   "source": [
    "department = pd.read_csv(os.path.join(path, 'Data', 'prepared data', 'departments_wrangled.csv'))"
   ]
  },
  {
   "cell_type": "code",
   "execution_count": 5,
   "id": "baf6e4df",
   "metadata": {},
   "outputs": [],
   "source": [
    "department.rename(columns = {'Unnamed: 0' : 'department_id'}, inplace = True)"
   ]
  },
  {
   "cell_type": "code",
   "execution_count": 6,
   "id": "052a0d4c",
   "metadata": {},
   "outputs": [],
   "source": [
    "dept_dict = dict(zip(department[\"department_id\"], department[\"department\"]))"
   ]
  },
  {
   "cell_type": "code",
   "execution_count": 7,
   "id": "2a0e30f9",
   "metadata": {
    "scrolled": false
   },
   "outputs": [
    {
     "data": {
      "text/plain": [
       "{1: 'frozen',\n",
       " 2: 'other',\n",
       " 3: 'bakery',\n",
       " 4: 'produce',\n",
       " 5: 'alcohol',\n",
       " 6: 'international',\n",
       " 7: 'beverages',\n",
       " 8: 'pets',\n",
       " 9: 'dry goods pasta',\n",
       " 10: 'bulk',\n",
       " 11: 'personal care',\n",
       " 12: 'meat seafood',\n",
       " 13: 'pantry',\n",
       " 14: 'breakfast',\n",
       " 15: 'canned goods',\n",
       " 16: 'dairy eggs',\n",
       " 17: 'household',\n",
       " 18: 'babies',\n",
       " 19: 'snacks',\n",
       " 20: 'deli',\n",
       " 21: 'missing'}"
      ]
     },
     "execution_count": 7,
     "metadata": {},
     "output_type": "execute_result"
    }
   ],
   "source": [
    "dept_dict"
   ]
  },
  {
   "cell_type": "code",
   "execution_count": 8,
   "id": "ffaa9baf",
   "metadata": {},
   "outputs": [
    {
     "data": {
      "text/html": [
       "<div>\n",
       "<style scoped>\n",
       "    .dataframe tbody tr th:only-of-type {\n",
       "        vertical-align: middle;\n",
       "    }\n",
       "\n",
       "    .dataframe tbody tr th {\n",
       "        vertical-align: top;\n",
       "    }\n",
       "\n",
       "    .dataframe thead th {\n",
       "        text-align: right;\n",
       "    }\n",
       "</style>\n",
       "<table border=\"1\" class=\"dataframe\">\n",
       "  <thead>\n",
       "    <tr style=\"text-align: right;\">\n",
       "      <th></th>\n",
       "      <th>order_id</th>\n",
       "      <th>user_id</th>\n",
       "      <th>order_number</th>\n",
       "      <th>order_day_of_week</th>\n",
       "      <th>order_hour_of_day</th>\n",
       "      <th>days_since_prior_order</th>\n",
       "      <th>product_id</th>\n",
       "      <th>add_to_cart_order</th>\n",
       "      <th>reordered</th>\n",
       "      <th>product_name</th>\n",
       "      <th>...</th>\n",
       "      <th>First Name</th>\n",
       "      <th>Last Name</th>\n",
       "      <th>Gender</th>\n",
       "      <th>STATE</th>\n",
       "      <th>Age</th>\n",
       "      <th>date_joined</th>\n",
       "      <th>n_dependants</th>\n",
       "      <th>fam_status</th>\n",
       "      <th>income</th>\n",
       "      <th>Ture</th>\n",
       "    </tr>\n",
       "  </thead>\n",
       "  <tbody>\n",
       "    <tr>\n",
       "      <th>0</th>\n",
       "      <td>2539329</td>\n",
       "      <td>1</td>\n",
       "      <td>1</td>\n",
       "      <td>2</td>\n",
       "      <td>8</td>\n",
       "      <td>NaN</td>\n",
       "      <td>196</td>\n",
       "      <td>1</td>\n",
       "      <td>0</td>\n",
       "      <td>Soda</td>\n",
       "      <td>...</td>\n",
       "      <td>Linda</td>\n",
       "      <td>Nguyen</td>\n",
       "      <td>Female</td>\n",
       "      <td>Alabama</td>\n",
       "      <td>31</td>\n",
       "      <td>2/17/2019</td>\n",
       "      <td>3</td>\n",
       "      <td>married</td>\n",
       "      <td>40423</td>\n",
       "      <td>both</td>\n",
       "    </tr>\n",
       "    <tr>\n",
       "      <th>1</th>\n",
       "      <td>2398795</td>\n",
       "      <td>1</td>\n",
       "      <td>2</td>\n",
       "      <td>3</td>\n",
       "      <td>7</td>\n",
       "      <td>15.0</td>\n",
       "      <td>196</td>\n",
       "      <td>1</td>\n",
       "      <td>1</td>\n",
       "      <td>Soda</td>\n",
       "      <td>...</td>\n",
       "      <td>Linda</td>\n",
       "      <td>Nguyen</td>\n",
       "      <td>Female</td>\n",
       "      <td>Alabama</td>\n",
       "      <td>31</td>\n",
       "      <td>2/17/2019</td>\n",
       "      <td>3</td>\n",
       "      <td>married</td>\n",
       "      <td>40423</td>\n",
       "      <td>both</td>\n",
       "    </tr>\n",
       "    <tr>\n",
       "      <th>2</th>\n",
       "      <td>473747</td>\n",
       "      <td>1</td>\n",
       "      <td>3</td>\n",
       "      <td>3</td>\n",
       "      <td>12</td>\n",
       "      <td>21.0</td>\n",
       "      <td>196</td>\n",
       "      <td>1</td>\n",
       "      <td>1</td>\n",
       "      <td>Soda</td>\n",
       "      <td>...</td>\n",
       "      <td>Linda</td>\n",
       "      <td>Nguyen</td>\n",
       "      <td>Female</td>\n",
       "      <td>Alabama</td>\n",
       "      <td>31</td>\n",
       "      <td>2/17/2019</td>\n",
       "      <td>3</td>\n",
       "      <td>married</td>\n",
       "      <td>40423</td>\n",
       "      <td>both</td>\n",
       "    </tr>\n",
       "    <tr>\n",
       "      <th>3</th>\n",
       "      <td>2254736</td>\n",
       "      <td>1</td>\n",
       "      <td>4</td>\n",
       "      <td>4</td>\n",
       "      <td>7</td>\n",
       "      <td>29.0</td>\n",
       "      <td>196</td>\n",
       "      <td>1</td>\n",
       "      <td>1</td>\n",
       "      <td>Soda</td>\n",
       "      <td>...</td>\n",
       "      <td>Linda</td>\n",
       "      <td>Nguyen</td>\n",
       "      <td>Female</td>\n",
       "      <td>Alabama</td>\n",
       "      <td>31</td>\n",
       "      <td>2/17/2019</td>\n",
       "      <td>3</td>\n",
       "      <td>married</td>\n",
       "      <td>40423</td>\n",
       "      <td>both</td>\n",
       "    </tr>\n",
       "    <tr>\n",
       "      <th>4</th>\n",
       "      <td>431534</td>\n",
       "      <td>1</td>\n",
       "      <td>5</td>\n",
       "      <td>4</td>\n",
       "      <td>15</td>\n",
       "      <td>28.0</td>\n",
       "      <td>196</td>\n",
       "      <td>1</td>\n",
       "      <td>1</td>\n",
       "      <td>Soda</td>\n",
       "      <td>...</td>\n",
       "      <td>Linda</td>\n",
       "      <td>Nguyen</td>\n",
       "      <td>Female</td>\n",
       "      <td>Alabama</td>\n",
       "      <td>31</td>\n",
       "      <td>2/17/2019</td>\n",
       "      <td>3</td>\n",
       "      <td>married</td>\n",
       "      <td>40423</td>\n",
       "      <td>both</td>\n",
       "    </tr>\n",
       "  </tbody>\n",
       "</table>\n",
       "<p>5 rows × 31 columns</p>\n",
       "</div>"
      ],
      "text/plain": [
       "   order_id  user_id  order_number  order_day_of_week  order_hour_of_day  \\\n",
       "0   2539329        1             1                  2                  8   \n",
       "1   2398795        1             2                  3                  7   \n",
       "2    473747        1             3                  3                 12   \n",
       "3   2254736        1             4                  4                  7   \n",
       "4    431534        1             5                  4                 15   \n",
       "\n",
       "   days_since_prior_order  product_id  add_to_cart_order  reordered  \\\n",
       "0                     NaN         196                  1          0   \n",
       "1                    15.0         196                  1          1   \n",
       "2                    21.0         196                  1          1   \n",
       "3                    29.0         196                  1          1   \n",
       "4                    28.0         196                  1          1   \n",
       "\n",
       "  product_name  ...  First Name  Last Name  Gender    STATE Age  date_joined  \\\n",
       "0         Soda  ...       Linda     Nguyen  Female  Alabama  31    2/17/2019   \n",
       "1         Soda  ...       Linda     Nguyen  Female  Alabama  31    2/17/2019   \n",
       "2         Soda  ...       Linda     Nguyen  Female  Alabama  31    2/17/2019   \n",
       "3         Soda  ...       Linda     Nguyen  Female  Alabama  31    2/17/2019   \n",
       "4         Soda  ...       Linda     Nguyen  Female  Alabama  31    2/17/2019   \n",
       "\n",
       "  n_dependants  fam_status income  Ture  \n",
       "0            3     married  40423  both  \n",
       "1            3     married  40423  both  \n",
       "2            3     married  40423  both  \n",
       "3            3     married  40423  both  \n",
       "4            3     married  40423  both  \n",
       "\n",
       "[5 rows x 31 columns]"
      ]
     },
     "execution_count": 8,
     "metadata": {},
     "output_type": "execute_result"
    }
   ],
   "source": [
    "df_all_merge.head()"
   ]
  },
  {
   "cell_type": "markdown",
   "id": "0b232173",
   "metadata": {},
   "source": [
    "#Step 2 \n",
    "Consider any security implications that might exist for this new data. You’ll need to address any PII data in the data before continuing your analysis."
   ]
  },
  {
   "cell_type": "markdown",
   "id": "15b48638",
   "metadata": {},
   "source": [
    "Yes, there are potential security implications with the data, particularly with Personally Identifiable Information (PII) that can be used to identify an individual.\n",
    "\n",
    "Full name, date of joining, age, and state of customers can all be considered PII. If this information is not properly secured, it could be used by malicious actors for identity theft, financial fraud, or other malicious purposes."
   ]
  },
  {
   "cell_type": "markdown",
   "id": "bcd7ffd2",
   "metadata": {},
   "source": [
    "# Step 3\n",
    "The Instacart officers are interested in comparing customer behavior in different geographic areas. Create a regional segmentation of the data. You’ll need to create a “Region” column based on the “State” column from your customers data set.\n",
    "Use the region information in this Wikipedia article to create your column (you only need to create regions, not divisions).\n",
    "Determine whether there’s a difference in spending habits between the different U.S. regions. (Hint: You can do this by crossing the variable you just created with the spending flag.)"
   ]
  },
  {
   "cell_type": "code",
   "execution_count": 9,
   "id": "9aa7e058",
   "metadata": {},
   "outputs": [],
   "source": [
    "# Define the region mapping\n",
    "region_map = {\n",
    "    'Connecticut': 'Northeast',\n",
    "    'Maine': 'Northeast',\n",
    "    'Massachusetts': 'Northeast',\n",
    "    'New Hampshire': 'Northeast',\n",
    "    'New Jersey': 'Northeast',\n",
    "    'New York': 'Northeast',\n",
    "    'Pennsylvania': 'Northeast',\n",
    "    'Rhode Island': 'Northeast',\n",
    "    'Vermont': 'Northeast',\n",
    "    'Illinois': 'Midwest',\n",
    "    'Indiana': 'Midwest',\n",
    "    'Iowa': 'Midwest',\n",
    "    'Kansas': 'Midwest',\n",
    "    'Michigan': 'Midwest',\n",
    "    'Minnesota': 'Midwest',\n",
    "    'Missouri': 'Midwest',\n",
    "    'Nebraska': 'Midwest',\n",
    "    'North Dakota': 'Midwest',\n",
    "    'Ohio': 'Midwest',\n",
    "    'South Dakota': 'Midwest',\n",
    "    'Wisconsin': 'Midwest',\n",
    "    'Alabama': 'South',\n",
    "    'Arkansas': 'South',\n",
    "    'Delaware': 'South',\n",
    "    'Florida': 'South',\n",
    "    'Georgia': 'South',\n",
    "    'Kentucky': 'South',\n",
    "    'Louisiana': 'South',\n",
    "    'Maryland': 'South',\n",
    "    'Mississippi': 'South',\n",
    "    'North Carolina': 'South',\n",
    "    'Oklahoma': 'South',\n",
    "    'South Carolina': 'South',\n",
    "    'Tennessee': 'South',\n",
    "    'Texas': 'South',\n",
    "    'Virginia': 'South',\n",
    "    'West Virginia': 'South',\n",
    "    'Alaska': 'West',\n",
    "    'Arizona': 'West',\n",
    "    'California': 'West',\n",
    "    'Colorado': 'West',\n",
    "    'Hawaii': 'West',\n",
    "    'Idaho': 'West',\n",
    "    'Montana': 'West',\n",
    "    'Nevada': 'West',\n",
    "    'New Mexico': 'West',\n",
    "    'Oregon': 'West',\n",
    "    'Utah': 'West',\n",
    "    'Washington': 'West',\n",
    "    'Wyoming': 'West'\n",
    "}\n",
    "\n",
    "# Add a new column \"Region\" to the dataset\n",
    "df_all_merge['Region'] = df_all_merge['STATE'].map(region_map)"
   ]
  },
  {
   "cell_type": "code",
   "execution_count": 10,
   "id": "35be3dd4",
   "metadata": {},
   "outputs": [],
   "source": [
    "crosstab = pd.crosstab(df_all_merge['Region'], df_all_merge['spending_flag'], dropna = False)"
   ]
  },
  {
   "cell_type": "code",
   "execution_count": 11,
   "id": "34a9af0a",
   "metadata": {},
   "outputs": [],
   "source": [
    "crosstab.to_clipboard()"
   ]
  },
  {
   "cell_type": "code",
   "execution_count": 12,
   "id": "1cdbf035",
   "metadata": {},
   "outputs": [
    {
     "data": {
      "text/html": [
       "<div>\n",
       "<style scoped>\n",
       "    .dataframe tbody tr th:only-of-type {\n",
       "        vertical-align: middle;\n",
       "    }\n",
       "\n",
       "    .dataframe tbody tr th {\n",
       "        vertical-align: top;\n",
       "    }\n",
       "\n",
       "    .dataframe thead th {\n",
       "        text-align: right;\n",
       "    }\n",
       "</style>\n",
       "<table border=\"1\" class=\"dataframe\">\n",
       "  <thead>\n",
       "    <tr style=\"text-align: right;\">\n",
       "      <th>spending_flag</th>\n",
       "      <th>Higer spender</th>\n",
       "      <th>Low spender</th>\n",
       "    </tr>\n",
       "    <tr>\n",
       "      <th>Region</th>\n",
       "      <th></th>\n",
       "      <th></th>\n",
       "    </tr>\n",
       "  </thead>\n",
       "  <tbody>\n",
       "    <tr>\n",
       "      <th>Midwest</th>\n",
       "      <td>149962</td>\n",
       "      <td>7033091</td>\n",
       "    </tr>\n",
       "    <tr>\n",
       "      <th>Northeast</th>\n",
       "      <td>101535</td>\n",
       "      <td>5325733</td>\n",
       "    </tr>\n",
       "    <tr>\n",
       "      <th>South</th>\n",
       "      <td>184334</td>\n",
       "      <td>9448457</td>\n",
       "    </tr>\n",
       "    <tr>\n",
       "      <th>West</th>\n",
       "      <td>148255</td>\n",
       "      <td>7690677</td>\n",
       "    </tr>\n",
       "  </tbody>\n",
       "</table>\n",
       "</div>"
      ],
      "text/plain": [
       "spending_flag  Higer spender  Low spender\n",
       "Region                                   \n",
       "Midwest               149962      7033091\n",
       "Northeast             101535      5325733\n",
       "South                 184334      9448457\n",
       "West                  148255      7690677"
      ]
     },
     "execution_count": 12,
     "metadata": {},
     "output_type": "execute_result"
    }
   ],
   "source": [
    "crosstab"
   ]
  },
  {
   "cell_type": "code",
   "execution_count": 13,
   "id": "4e4e8251",
   "metadata": {},
   "outputs": [
    {
     "data": {
      "text/plain": [
       "<Axes: >"
      ]
     },
     "execution_count": 13,
     "metadata": {},
     "output_type": "execute_result"
    },
    {
     "data": {
      "image/png": "[encoded data removed]",
      "text/plain": [
       "<Figure size 640x480 with 1 Axes>"
      ]
     },
     "metadata": {},
     "output_type": "display_data"
    }
   ],
   "source": [
    "df_all_merge['spending_flag'].value_counts().sort_index().plot.bar(color = ['black', 'orange'])"
   ]
  },
  {
   "cell_type": "markdown",
   "id": "f0a02243",
   "metadata": {},
   "source": [
    "#step 4\n",
    "The Instacart CFO isn’t interested in customers who don’t generate much revenue for the app. Create an exclusion flag for low-activity customers (customers with less than 5 orders) and exclude them from the data. Make sure you export this sample."
   ]
  },
  {
   "cell_type": "code",
   "execution_count": 14,
   "id": "54c798b4",
   "metadata": {},
   "outputs": [],
   "source": [
    " df_all_merge.loc[df_all_merge['max_order']< 5, 'activity_of_customers'] = 'Low order customer'"
   ]
  },
  {
   "cell_type": "code",
   "execution_count": 15,
   "id": "81b89483",
   "metadata": {},
   "outputs": [],
   "source": [
    "df_all_merge.loc[df_all_merge['max_order'] >= 5, 'activity_of_customers'] = 'High order customer'"
   ]
  },
  {
   "cell_type": "code",
   "execution_count": 16,
   "id": "16912d25",
   "metadata": {},
   "outputs": [
    {
     "data": {
      "text/plain": [
       "High order customer    29297366\n",
       "Low order customer      1359981\n",
       "Name: activity_of_customers, dtype: int64"
      ]
     },
     "execution_count": 16,
     "metadata": {},
     "output_type": "execute_result"
    }
   ],
   "source": [
    "df_all_merge['activity_of_customers'].value_counts(dropna = False)"
   ]
  },
  {
   "cell_type": "code",
   "execution_count": 17,
   "id": "d4e9accd",
   "metadata": {},
   "outputs": [
    {
     "data": {
      "text/plain": [
       "<Axes: >"
      ]
     },
     "execution_count": 17,
     "metadata": {},
     "output_type": "execute_result"
    },
    {
     "data": {
      "image/png": "[encoded data removed]",
      "text/plain": [
       "<Figure size 640x480 with 1 Axes>"
      ]
     },
     "metadata": {},
     "output_type": "display_data"
    }
   ],
   "source": [
    "df_all_merge['activity_of_customers'].value_counts().sort_index().plot.bar(color = ['purple', 'green'])"
   ]
  },
  {
   "cell_type": "code",
   "execution_count": 18,
   "id": "f6f3faf2",
   "metadata": {},
   "outputs": [],
   "source": [
    "#df_all_merge.to_pickle(os.path.join(path,'Data','prepared Data','low and high acitvity customers'))"
   ]
  },
  {
   "cell_type": "markdown",
   "id": "c65491cd",
   "metadata": {},
   "source": [
    "#Appropriate visualization"
   ]
  },
  {
   "cell_type": "markdown",
   "id": "ee6d56b1",
   "metadata": {},
   "source": [
    "# STEP 4\n",
    " customer profiling "
   ]
  },
  {
   "cell_type": "code",
   "execution_count": 19,
   "id": "bd734948",
   "metadata": {},
   "outputs": [],
   "source": [
    "df_all_merge.loc[df_all_merge['Age'] <= 40, 'age_profile'] = '18 year to 40 year'"
   ]
  },
  {
   "cell_type": "code",
   "execution_count": 20,
   "id": "508c7d38",
   "metadata": {},
   "outputs": [],
   "source": [
    "df_all_merge.loc[(df_all_merge['Age'] >41) & (df_all_merge['Age'] <= 65), 'age_profile'] = '41 year to 65 year'"
   ]
  },
  {
   "cell_type": "code",
   "execution_count": 21,
   "id": "2a8135e1",
   "metadata": {},
   "outputs": [],
   "source": [
    "df_all_merge.loc[df_all_merge['Age']  <65, 'age_profile'] = 'More than 65 year'"
   ]
  },
  {
   "cell_type": "code",
   "execution_count": 22,
   "id": "44219f16",
   "metadata": {},
   "outputs": [
    {
     "data": {
      "text/plain": [
       "More than 65 year     22552721\n",
       "NaN                    7651333\n",
       "41 year to 65 year      453293\n",
       "Name: age_profile, dtype: int64"
      ]
     },
     "execution_count": 22,
     "metadata": {},
     "output_type": "execute_result"
    }
   ],
   "source": [
    "df_all_merge['age_profile'].value_counts(dropna = False)"
   ]
  },
  {
   "cell_type": "code",
   "execution_count": 23,
   "id": "60b49a9e",
   "metadata": {},
   "outputs": [
    {
     "data": {
      "image/png": "[encoded data removed]",
      "text/plain": [
       "<Figure size 640x480 with 1 Axes>"
      ]
     },
     "metadata": {},
     "output_type": "display_data"
    }
   ],
   "source": [
    "age_pie = df_all_merge['age_profile'].value_counts().plot.pie(title ='age_profile', label = '', autopct=('%1.f%%'))"
   ]
  },
  {
   "cell_type": "markdown",
   "id": "570dc90c",
   "metadata": {},
   "source": [
    "# Income profile\n"
   ]
  },
  {
   "cell_type": "code",
   "execution_count": 24,
   "id": "8beba358",
   "metadata": {},
   "outputs": [],
   "source": [
    "df_all_merge.loc[df_all_merge['income'] <= 50000, 'Earnings'] = 'Low_income'"
   ]
  },
  {
   "cell_type": "code",
   "execution_count": 25,
   "id": "cc96ac68",
   "metadata": {},
   "outputs": [],
   "source": [
    "df_all_merge.loc[(df_all_merge['income'] > 50000) & (df_all_merge['income'] <= 100000), 'Earnings'] = 'Median_income'\n"
   ]
  },
  {
   "cell_type": "code",
   "execution_count": 26,
   "id": "aeb45426",
   "metadata": {},
   "outputs": [],
   "source": [
    "df_all_merge.loc[df_all_merge['income'] > 100000, 'Earnings'] = 'High_income'"
   ]
  },
  {
   "cell_type": "code",
   "execution_count": 27,
   "id": "e68083e8",
   "metadata": {
    "scrolled": true
   },
   "outputs": [
    {
     "data": {
      "text/plain": [
       "High_income      14021255\n",
       "Median_income    13244975\n",
       "Low_income        3391117\n",
       "Name: Earnings, dtype: int64"
      ]
     },
     "execution_count": 27,
     "metadata": {},
     "output_type": "execute_result"
    }
   ],
   "source": [
    "df_all_merge['Earnings'].value_counts(dropna = False)"
   ]
  },
  {
   "cell_type": "code",
   "execution_count": 50,
   "id": "8c3c431b",
   "metadata": {},
   "outputs": [
    {
     "data": {
      "image/png": "[encoded data removed]",
      "text/plain": [
       "<Figure size 640x480 with 1 Axes>"
      ]
     },
     "metadata": {},
     "output_type": "display_data"
    }
   ],
   "source": [
    "Earning_pie = df_all_merge['Earnings'].value_counts().plot.pie(title ='Earnings', label = '', autopct=('%1.f%%'))"
   ]
  },
  {
   "cell_type": "markdown",
   "id": "0e023443",
   "metadata": {},
   "source": [
    "# Department profile \n"
   ]
  },
  {
   "cell_type": "markdown",
   "id": "f42a8056",
   "metadata": {},
   "source": [
    "# Checking how many user eat meat."
   ]
  },
  {
   "cell_type": "code",
   "execution_count": 28,
   "id": "1945a322",
   "metadata": {},
   "outputs": [],
   "source": [
    " #Diet choice\n",
    "diet_crosstab = pd.crosstab(df_all_merge['department_id'], df_all_merge['user_id'], dropna = False)"
   ]
  },
  {
   "cell_type": "code",
   "execution_count": 29,
   "id": "3f736735",
   "metadata": {},
   "outputs": [],
   "source": [
    "df_all_merge.loc[df_all_merge['department_id'].isin([12, 16]), 'Food choice'] = 'Non vegetarian'\n"
   ]
  },
  {
   "cell_type": "code",
   "execution_count": 30,
   "id": "4df5630e",
   "metadata": {},
   "outputs": [],
   "source": [
    "df_all_merge.loc[~df_all_merge['department_id'].isin([12, 16]), 'Food choice'] = 'vegetarian'\n"
   ]
  },
  {
   "cell_type": "code",
   "execution_count": 31,
   "id": "cea25eed",
   "metadata": {},
   "outputs": [
    {
     "data": {
      "text/plain": [
       "vegetarian        24870571\n",
       "Non vegetarian     5786776\n",
       "Name: Food choice, dtype: int64"
      ]
     },
     "execution_count": 31,
     "metadata": {},
     "output_type": "execute_result"
    }
   ],
   "source": [
    "df_all_merge['Food choice'].value_counts(dropna = False)"
   ]
  },
  {
   "cell_type": "code",
   "execution_count": 51,
   "id": "795b3e8d",
   "metadata": {},
   "outputs": [
    {
     "data": {
      "image/png": "[encoded data removed]",
      "text/plain": [
       "<Figure size 640x480 with 1 Axes>"
      ]
     },
     "metadata": {},
     "output_type": "display_data"
    }
   ],
   "source": [
    "food_pie = df_all_merge['Food choice'].value_counts().plot.pie(title ='Food choice', label = '', autopct=('%1.f%%'))"
   ]
  },
  {
   "cell_type": "markdown",
   "id": "aa1d821e",
   "metadata": {},
   "source": [
    "# Checking customers with babies and pet and without babies and pet"
   ]
  },
  {
   "cell_type": "code",
   "execution_count": 32,
   "id": "3580ad3f",
   "metadata": {},
   "outputs": [],
   "source": [
    "df_all_merge.loc[df_all_merge['department_id'] == 18, 'Customer'] = 'Customer with babies'\n",
    "\n"
   ]
  },
  {
   "cell_type": "code",
   "execution_count": 33,
   "id": "c8ca46d2",
   "metadata": {},
   "outputs": [],
   "source": [
    "df_all_merge.loc[df_all_merge['department_id'] == 8, 'Customer'] = 'Customer with Pet'"
   ]
  },
  {
   "cell_type": "code",
   "execution_count": 34,
   "id": "a57ee1c5",
   "metadata": {},
   "outputs": [],
   "source": [
    "df_all_merge.loc[(df_all_merge['department_id'] == 8) & (df_all_merge['department_id'] == 18), 'Customer'] = 'Customer with Pet and babies'"
   ]
  },
  {
   "cell_type": "code",
   "execution_count": 35,
   "id": "bf8e5478",
   "metadata": {},
   "outputs": [],
   "source": [
    "df_all_merge.loc[(df_all_merge['department_id'] != 8) & (df_all_merge['department_id'] != 18), 'Customer'] = 'Customer without Pet and babies'"
   ]
  },
  {
   "cell_type": "code",
   "execution_count": 36,
   "id": "824a0af0",
   "metadata": {},
   "outputs": [
    {
     "data": {
      "text/plain": [
       "Customer without Pet and babies    30164709\n",
       "Customer with babies                 400378\n",
       "Customer with Pet                     92260\n",
       "Name: Customer, dtype: int64"
      ]
     },
     "execution_count": 36,
     "metadata": {},
     "output_type": "execute_result"
    }
   ],
   "source": [
    "df_all_merge['Customer'].value_counts()"
   ]
  },
  {
   "cell_type": "code",
   "execution_count": 63,
   "id": "23ec480c",
   "metadata": {},
   "outputs": [
    {
     "data": {
      "text/plain": [
       "<Axes: >"
      ]
     },
     "execution_count": 63,
     "metadata": {},
     "output_type": "execute_result"
    },
    {
     "data": {
      "image/png": "[encoded data removed]",
      "text/plain": [
       "<Figure size 640x480 with 1 Axes>"
      ]
     },
     "metadata": {},
     "output_type": "display_data"
    }
   ],
   "source": [
    "\n",
    "\n",
    "\n",
    "\n",
    "df_all_merge['Customer'].value_counts().sort_index().plot.bar(color = ['purple', 'red', 'pink'])\n"
   ]
  },
  {
   "cell_type": "markdown",
   "id": "d1306a79",
   "metadata": {},
   "source": [
    "# Number of dependents "
   ]
  },
  {
   "cell_type": "code",
   "execution_count": 37,
   "id": "8969ae06",
   "metadata": {
    "scrolled": true
   },
   "outputs": [],
   "source": [
    "\n",
    "\n",
    "df_all_merge.loc[df_all_merge['n_dependants'] >= 1, 'Number of dependants'] = 'Families with dependants'"
   ]
  },
  {
   "cell_type": "code",
   "execution_count": 38,
   "id": "2a3c4863",
   "metadata": {},
   "outputs": [],
   "source": [
    "df_all_merge.loc[df_all_merge['n_dependants'] == 0 , 'Number of dependants'] = 'Families without dependants'"
   ]
  },
  {
   "cell_type": "code",
   "execution_count": 58,
   "id": "f9292488",
   "metadata": {},
   "outputs": [
    {
     "data": {
      "text/plain": [
       "Families with dependants       23000378\n",
       "Families without dependants     7656969\n",
       "Name: Number of dependants, dtype: int64"
      ]
     },
     "execution_count": 58,
     "metadata": {},
     "output_type": "execute_result"
    }
   ],
   "source": [
    "df_all_merge[ 'Number of dependants'].value_counts(dropna = False)"
   ]
  },
  {
   "cell_type": "code",
   "execution_count": 59,
   "id": "5f402edb",
   "metadata": {},
   "outputs": [
    {
     "data": {
      "image/png": "[encoded data removed]",
      "text/plain": [
       "<Figure size 640x480 with 1 Axes>"
      ]
     },
     "metadata": {},
     "output_type": "display_data"
    }
   ],
   "source": [
    "dependant_pie = df_all_merge['Number of dependants'].value_counts().plot.pie(title ='', label = '', autopct=('%1.f%%'))"
   ]
  },
  {
   "cell_type": "code",
   "execution_count": 40,
   "id": "806195ae",
   "metadata": {},
   "outputs": [],
   "source": [
    "#df_all_merge[['Number of dependants', 'age_profile', 'Earnings', 'activity_of_customers']].describe()"
   ]
  },
  {
   "cell_type": "code",
   "execution_count": 41,
   "id": "8167ce9f",
   "metadata": {},
   "outputs": [
    {
     "data": {
      "text/html": [
       "<div>\n",
       "<style scoped>\n",
       "    .dataframe tbody tr th:only-of-type {\n",
       "        vertical-align: middle;\n",
       "    }\n",
       "\n",
       "    .dataframe tbody tr th {\n",
       "        vertical-align: top;\n",
       "    }\n",
       "\n",
       "    .dataframe thead th {\n",
       "        text-align: right;\n",
       "    }\n",
       "</style>\n",
       "<table border=\"1\" class=\"dataframe\">\n",
       "  <thead>\n",
       "    <tr style=\"text-align: right;\">\n",
       "      <th></th>\n",
       "      <th>n_dependants</th>\n",
       "      <th>Age</th>\n",
       "      <th>income</th>\n",
       "    </tr>\n",
       "  </thead>\n",
       "  <tbody>\n",
       "    <tr>\n",
       "      <th>count</th>\n",
       "      <td>3.065735e+07</td>\n",
       "      <td>3.065735e+07</td>\n",
       "      <td>3.065735e+07</td>\n",
       "    </tr>\n",
       "    <tr>\n",
       "      <th>mean</th>\n",
       "      <td>1.501689e+00</td>\n",
       "      <td>4.947334e+01</td>\n",
       "      <td>9.945696e+04</td>\n",
       "    </tr>\n",
       "    <tr>\n",
       "      <th>std</th>\n",
       "      <td>1.118474e+00</td>\n",
       "      <td>1.847857e+01</td>\n",
       "      <td>4.306362e+04</td>\n",
       "    </tr>\n",
       "    <tr>\n",
       "      <th>min</th>\n",
       "      <td>0.000000e+00</td>\n",
       "      <td>1.800000e+01</td>\n",
       "      <td>2.590300e+04</td>\n",
       "    </tr>\n",
       "    <tr>\n",
       "      <th>25%</th>\n",
       "      <td>1.000000e+00</td>\n",
       "      <td>3.300000e+01</td>\n",
       "      <td>6.706600e+04</td>\n",
       "    </tr>\n",
       "    <tr>\n",
       "      <th>50%</th>\n",
       "      <td>2.000000e+00</td>\n",
       "      <td>4.900000e+01</td>\n",
       "      <td>9.661000e+04</td>\n",
       "    </tr>\n",
       "    <tr>\n",
       "      <th>75%</th>\n",
       "      <td>3.000000e+00</td>\n",
       "      <td>6.500000e+01</td>\n",
       "      <td>1.279300e+05</td>\n",
       "    </tr>\n",
       "    <tr>\n",
       "      <th>max</th>\n",
       "      <td>3.000000e+00</td>\n",
       "      <td>8.100000e+01</td>\n",
       "      <td>5.939010e+05</td>\n",
       "    </tr>\n",
       "  </tbody>\n",
       "</table>\n",
       "</div>"
      ],
      "text/plain": [
       "       n_dependants           Age        income\n",
       "count  3.065735e+07  3.065735e+07  3.065735e+07\n",
       "mean   1.501689e+00  4.947334e+01  9.945696e+04\n",
       "std    1.118474e+00  1.847857e+01  4.306362e+04\n",
       "min    0.000000e+00  1.800000e+01  2.590300e+04\n",
       "25%    1.000000e+00  3.300000e+01  6.706600e+04\n",
       "50%    2.000000e+00  4.900000e+01  9.661000e+04\n",
       "75%    3.000000e+00  6.500000e+01  1.279300e+05\n",
       "max    3.000000e+00  8.100000e+01  5.939010e+05"
      ]
     },
     "execution_count": 41,
     "metadata": {},
     "output_type": "execute_result"
    }
   ],
   "source": [
    "df_all_merge[['n_dependants','Age', 'income',]].describe()"
   ]
  },
  {
   "cell_type": "markdown",
   "id": "661ba44a",
   "metadata": {},
   "source": [
    "# Step 8\n",
    " \n",
    " In this 8th step i have made a copy of df and than change the department id with department name so it is easy to do crosstap and easy to understand what department was in more in demand  in what regin."
   ]
  },
  {
   "cell_type": "code",
   "execution_count": 42,
   "id": "456e2a14",
   "metadata": {},
   "outputs": [],
   "source": [
    "department_region = df_all_merge[['department_id', 'Region','spending_flag']]"
   ]
  },
  {
   "cell_type": "code",
   "execution_count": 43,
   "id": "9031e751",
   "metadata": {},
   "outputs": [
    {
     "data": {
      "text/html": [
       "<div>\n",
       "<style scoped>\n",
       "    .dataframe tbody tr th:only-of-type {\n",
       "        vertical-align: middle;\n",
       "    }\n",
       "\n",
       "    .dataframe tbody tr th {\n",
       "        vertical-align: top;\n",
       "    }\n",
       "\n",
       "    .dataframe thead th {\n",
       "        text-align: right;\n",
       "    }\n",
       "</style>\n",
       "<table border=\"1\" class=\"dataframe\">\n",
       "  <thead>\n",
       "    <tr style=\"text-align: right;\">\n",
       "      <th></th>\n",
       "      <th>department_id</th>\n",
       "      <th>Region</th>\n",
       "      <th>spending_flag</th>\n",
       "    </tr>\n",
       "  </thead>\n",
       "  <tbody>\n",
       "    <tr>\n",
       "      <th>0</th>\n",
       "      <td>7</td>\n",
       "      <td>South</td>\n",
       "      <td>Low spender</td>\n",
       "    </tr>\n",
       "    <tr>\n",
       "      <th>1</th>\n",
       "      <td>7</td>\n",
       "      <td>South</td>\n",
       "      <td>Low spender</td>\n",
       "    </tr>\n",
       "    <tr>\n",
       "      <th>2</th>\n",
       "      <td>7</td>\n",
       "      <td>South</td>\n",
       "      <td>Low spender</td>\n",
       "    </tr>\n",
       "    <tr>\n",
       "      <th>3</th>\n",
       "      <td>7</td>\n",
       "      <td>South</td>\n",
       "      <td>Low spender</td>\n",
       "    </tr>\n",
       "    <tr>\n",
       "      <th>4</th>\n",
       "      <td>7</td>\n",
       "      <td>South</td>\n",
       "      <td>Low spender</td>\n",
       "    </tr>\n",
       "    <tr>\n",
       "      <th>...</th>\n",
       "      <td>...</td>\n",
       "      <td>...</td>\n",
       "      <td>...</td>\n",
       "    </tr>\n",
       "    <tr>\n",
       "      <th>30657342</th>\n",
       "      <td>7</td>\n",
       "      <td>West</td>\n",
       "      <td>Higer spender</td>\n",
       "    </tr>\n",
       "    <tr>\n",
       "      <th>30657343</th>\n",
       "      <td>12</td>\n",
       "      <td>South</td>\n",
       "      <td>Low spender</td>\n",
       "    </tr>\n",
       "    <tr>\n",
       "      <th>30657344</th>\n",
       "      <td>12</td>\n",
       "      <td>South</td>\n",
       "      <td>Low spender</td>\n",
       "    </tr>\n",
       "    <tr>\n",
       "      <th>30657345</th>\n",
       "      <td>12</td>\n",
       "      <td>South</td>\n",
       "      <td>Low spender</td>\n",
       "    </tr>\n",
       "    <tr>\n",
       "      <th>30657346</th>\n",
       "      <td>12</td>\n",
       "      <td>South</td>\n",
       "      <td>Low spender</td>\n",
       "    </tr>\n",
       "  </tbody>\n",
       "</table>\n",
       "<p>30657347 rows × 3 columns</p>\n",
       "</div>"
      ],
      "text/plain": [
       "          department_id Region  spending_flag\n",
       "0                     7  South    Low spender\n",
       "1                     7  South    Low spender\n",
       "2                     7  South    Low spender\n",
       "3                     7  South    Low spender\n",
       "4                     7  South    Low spender\n",
       "...                 ...    ...            ...\n",
       "30657342              7   West  Higer spender\n",
       "30657343             12  South    Low spender\n",
       "30657344             12  South    Low spender\n",
       "30657345             12  South    Low spender\n",
       "30657346             12  South    Low spender\n",
       "\n",
       "[30657347 rows x 3 columns]"
      ]
     },
     "execution_count": 43,
     "metadata": {},
     "output_type": "execute_result"
    }
   ],
   "source": [
    "department_region"
   ]
  },
  {
   "cell_type": "code",
   "execution_count": 44,
   "id": "4f7c8125",
   "metadata": {},
   "outputs": [],
   "source": [
    "\n",
    "department_region = df_all_merge[['department_id', 'Region','spending_flag']].copy()\n",
    "department_names = {1: 'frozen', 2: 'other', 3: 'bakery', 4: 'produce', 5: 'alcohol', 6: 'international', 7: 'beverages', 8: 'pets', 9: 'dry goods pasta', 10: 'bulk', 11: 'personal care', 12: 'meat seafood', 13: 'pantry', 14: 'breakfast', 15: 'canned goods', 16: 'dairy eggs', 17: 'household', 18: 'babies', 19: 'snacks', 20: 'deli', 21: 'missing'}\n",
    "\n",
    "department_region['department_name'] = department_region['department_id'].replace(department_names)\n"
   ]
  },
  {
   "cell_type": "code",
   "execution_count": 45,
   "id": "97d6fada",
   "metadata": {},
   "outputs": [
    {
     "data": {
      "text/html": [
       "<div>\n",
       "<style scoped>\n",
       "    .dataframe tbody tr th:only-of-type {\n",
       "        vertical-align: middle;\n",
       "    }\n",
       "\n",
       "    .dataframe tbody tr th {\n",
       "        vertical-align: top;\n",
       "    }\n",
       "\n",
       "    .dataframe thead th {\n",
       "        text-align: right;\n",
       "    }\n",
       "</style>\n",
       "<table border=\"1\" class=\"dataframe\">\n",
       "  <thead>\n",
       "    <tr style=\"text-align: right;\">\n",
       "      <th></th>\n",
       "      <th>department_id</th>\n",
       "      <th>Region</th>\n",
       "      <th>spending_flag</th>\n",
       "      <th>department_name</th>\n",
       "    </tr>\n",
       "  </thead>\n",
       "  <tbody>\n",
       "    <tr>\n",
       "      <th>0</th>\n",
       "      <td>7</td>\n",
       "      <td>South</td>\n",
       "      <td>Low spender</td>\n",
       "      <td>beverages</td>\n",
       "    </tr>\n",
       "    <tr>\n",
       "      <th>1</th>\n",
       "      <td>7</td>\n",
       "      <td>South</td>\n",
       "      <td>Low spender</td>\n",
       "      <td>beverages</td>\n",
       "    </tr>\n",
       "    <tr>\n",
       "      <th>2</th>\n",
       "      <td>7</td>\n",
       "      <td>South</td>\n",
       "      <td>Low spender</td>\n",
       "      <td>beverages</td>\n",
       "    </tr>\n",
       "  </tbody>\n",
       "</table>\n",
       "</div>"
      ],
      "text/plain": [
       "   department_id Region spending_flag department_name\n",
       "0              7  South   Low spender       beverages\n",
       "1              7  South   Low spender       beverages\n",
       "2              7  South   Low spender       beverages"
      ]
     },
     "execution_count": 45,
     "metadata": {},
     "output_type": "execute_result"
    }
   ],
   "source": [
    "department_region.head(3)"
   ]
  },
  {
   "cell_type": "code",
   "execution_count": 46,
   "id": "5bea1c69",
   "metadata": {},
   "outputs": [],
   "source": [
    "crosstab_dep_reg_spen = pd.crosstab(department_region['department_name'], [department_region['Region'], department_region['spending_flag']], dropna=False)\n"
   ]
  },
  {
   "cell_type": "code",
   "execution_count": 47,
   "id": "7ae18f0c",
   "metadata": {},
   "outputs": [],
   "source": [
    "\n",
    "crosstab_dep_reg_spen = crosstab_dep_reg_spen.sort_values(crosstab_dep_reg_spen.columns[0], ascending=False)"
   ]
  },
  {
   "cell_type": "code",
   "execution_count": 48,
   "id": "2e8ccc47",
   "metadata": {},
   "outputs": [
    {
     "data": {
      "text/html": [
       "<div>\n",
       "<style scoped>\n",
       "    .dataframe tbody tr th:only-of-type {\n",
       "        vertical-align: middle;\n",
       "    }\n",
       "\n",
       "    .dataframe tbody tr th {\n",
       "        vertical-align: top;\n",
       "    }\n",
       "\n",
       "    .dataframe thead tr th {\n",
       "        text-align: left;\n",
       "    }\n",
       "\n",
       "    .dataframe thead tr:last-of-type th {\n",
       "        text-align: right;\n",
       "    }\n",
       "</style>\n",
       "<table border=\"1\" class=\"dataframe\">\n",
       "  <thead>\n",
       "    <tr>\n",
       "      <th>Region</th>\n",
       "      <th colspan=\"2\" halign=\"left\">Midwest</th>\n",
       "      <th colspan=\"2\" halign=\"left\">Northeast</th>\n",
       "      <th colspan=\"2\" halign=\"left\">South</th>\n",
       "      <th colspan=\"2\" halign=\"left\">West</th>\n",
       "    </tr>\n",
       "    <tr>\n",
       "      <th>spending_flag</th>\n",
       "      <th>Higer spender</th>\n",
       "      <th>Low spender</th>\n",
       "      <th>Higer spender</th>\n",
       "      <th>Low spender</th>\n",
       "      <th>Higer spender</th>\n",
       "      <th>Low spender</th>\n",
       "      <th>Higer spender</th>\n",
       "      <th>Low spender</th>\n",
       "    </tr>\n",
       "    <tr>\n",
       "      <th>department_name</th>\n",
       "      <th></th>\n",
       "      <th></th>\n",
       "      <th></th>\n",
       "      <th></th>\n",
       "      <th></th>\n",
       "      <th></th>\n",
       "      <th></th>\n",
       "      <th></th>\n",
       "    </tr>\n",
       "  </thead>\n",
       "  <tbody>\n",
       "    <tr>\n",
       "      <th>produce</th>\n",
       "      <td>30884</td>\n",
       "      <td>2076218</td>\n",
       "      <td>21165</td>\n",
       "      <td>1560333</td>\n",
       "      <td>39405</td>\n",
       "      <td>2784801</td>\n",
       "      <td>31127</td>\n",
       "      <td>2255202</td>\n",
       "    </tr>\n",
       "    <tr>\n",
       "      <th>dairy eggs</th>\n",
       "      <td>27324</td>\n",
       "      <td>1169670</td>\n",
       "      <td>17421</td>\n",
       "      <td>886345</td>\n",
       "      <td>34062</td>\n",
       "      <td>1574050</td>\n",
       "      <td>26266</td>\n",
       "      <td>1285248</td>\n",
       "    </tr>\n",
       "    <tr>\n",
       "      <th>beverages</th>\n",
       "      <td>15360</td>\n",
       "      <td>575322</td>\n",
       "      <td>9726</td>\n",
       "      <td>447508</td>\n",
       "      <td>17642</td>\n",
       "      <td>783778</td>\n",
       "      <td>14031</td>\n",
       "      <td>629365</td>\n",
       "    </tr>\n",
       "    <tr>\n",
       "      <th>snacks</th>\n",
       "      <td>12378</td>\n",
       "      <td>623916</td>\n",
       "      <td>8077</td>\n",
       "      <td>479527</td>\n",
       "      <td>13440</td>\n",
       "      <td>839818</td>\n",
       "      <td>11544</td>\n",
       "      <td>690167</td>\n",
       "    </tr>\n",
       "    <tr>\n",
       "      <th>frozen</th>\n",
       "      <td>10930</td>\n",
       "      <td>483239</td>\n",
       "      <td>7773</td>\n",
       "      <td>362527</td>\n",
       "      <td>14129</td>\n",
       "      <td>653811</td>\n",
       "      <td>11328</td>\n",
       "      <td>530207</td>\n",
       "    </tr>\n",
       "    <tr>\n",
       "      <th>pantry</th>\n",
       "      <td>8930</td>\n",
       "      <td>408248</td>\n",
       "      <td>6580</td>\n",
       "      <td>305815</td>\n",
       "      <td>11624</td>\n",
       "      <td>542424</td>\n",
       "      <td>9355</td>\n",
       "      <td>444504</td>\n",
       "    </tr>\n",
       "    <tr>\n",
       "      <th>bakery</th>\n",
       "      <td>6589</td>\n",
       "      <td>253417</td>\n",
       "      <td>4786</td>\n",
       "      <td>193764</td>\n",
       "      <td>8524</td>\n",
       "      <td>337807</td>\n",
       "      <td>7019</td>\n",
       "      <td>278975</td>\n",
       "    </tr>\n",
       "    <tr>\n",
       "      <th>household</th>\n",
       "      <td>6389</td>\n",
       "      <td>159385</td>\n",
       "      <td>4391</td>\n",
       "      <td>120157</td>\n",
       "      <td>7026</td>\n",
       "      <td>208593</td>\n",
       "      <td>6007</td>\n",
       "      <td>170816</td>\n",
       "    </tr>\n",
       "    <tr>\n",
       "      <th>meat seafood</th>\n",
       "      <td>5269</td>\n",
       "      <td>151561</td>\n",
       "      <td>3768</td>\n",
       "      <td>114743</td>\n",
       "      <td>6665</td>\n",
       "      <td>203902</td>\n",
       "      <td>5306</td>\n",
       "      <td>167392</td>\n",
       "    </tr>\n",
       "    <tr>\n",
       "      <th>canned goods</th>\n",
       "      <td>4867</td>\n",
       "      <td>232082</td>\n",
       "      <td>3400</td>\n",
       "      <td>173919</td>\n",
       "      <td>5975</td>\n",
       "      <td>311571</td>\n",
       "      <td>5517</td>\n",
       "      <td>253459</td>\n",
       "    </tr>\n",
       "    <tr>\n",
       "      <th>dry goods pasta</th>\n",
       "      <td>4208</td>\n",
       "      <td>188556</td>\n",
       "      <td>2641</td>\n",
       "      <td>141500</td>\n",
       "      <td>4727</td>\n",
       "      <td>251284</td>\n",
       "      <td>4080</td>\n",
       "      <td>207374</td>\n",
       "    </tr>\n",
       "    <tr>\n",
       "      <th>deli</th>\n",
       "      <td>3960</td>\n",
       "      <td>228478</td>\n",
       "      <td>2749</td>\n",
       "      <td>173868</td>\n",
       "      <td>5327</td>\n",
       "      <td>306217</td>\n",
       "      <td>3905</td>\n",
       "      <td>250316</td>\n",
       "    </tr>\n",
       "    <tr>\n",
       "      <th>breakfast</th>\n",
       "      <td>3480</td>\n",
       "      <td>152661</td>\n",
       "      <td>2392</td>\n",
       "      <td>115616</td>\n",
       "      <td>4677</td>\n",
       "      <td>205249</td>\n",
       "      <td>3770</td>\n",
       "      <td>169702</td>\n",
       "    </tr>\n",
       "    <tr>\n",
       "      <th>alcohol</th>\n",
       "      <td>2932</td>\n",
       "      <td>31947</td>\n",
       "      <td>2646</td>\n",
       "      <td>22621</td>\n",
       "      <td>3593</td>\n",
       "      <td>42056</td>\n",
       "      <td>2998</td>\n",
       "      <td>34436</td>\n",
       "    </tr>\n",
       "    <tr>\n",
       "      <th>personal care</th>\n",
       "      <td>2495</td>\n",
       "      <td>96912</td>\n",
       "      <td>1652</td>\n",
       "      <td>73029</td>\n",
       "      <td>2842</td>\n",
       "      <td>130552</td>\n",
       "      <td>2364</td>\n",
       "      <td>103484</td>\n",
       "    </tr>\n",
       "    <tr>\n",
       "      <th>babies</th>\n",
       "      <td>1194</td>\n",
       "      <td>91914</td>\n",
       "      <td>524</td>\n",
       "      <td>71047</td>\n",
       "      <td>1532</td>\n",
       "      <td>126329</td>\n",
       "      <td>1016</td>\n",
       "      <td>99610</td>\n",
       "    </tr>\n",
       "    <tr>\n",
       "      <th>international</th>\n",
       "      <td>1168</td>\n",
       "      <td>58884</td>\n",
       "      <td>703</td>\n",
       "      <td>43767</td>\n",
       "      <td>1293</td>\n",
       "      <td>78143</td>\n",
       "      <td>1298</td>\n",
       "      <td>64310</td>\n",
       "    </tr>\n",
       "    <tr>\n",
       "      <th>pets</th>\n",
       "      <td>1152</td>\n",
       "      <td>20024</td>\n",
       "      <td>771</td>\n",
       "      <td>16655</td>\n",
       "      <td>1171</td>\n",
       "      <td>26842</td>\n",
       "      <td>796</td>\n",
       "      <td>23344</td>\n",
       "    </tr>\n",
       "    <tr>\n",
       "      <th>missing</th>\n",
       "      <td>224</td>\n",
       "      <td>15321</td>\n",
       "      <td>178</td>\n",
       "      <td>11498</td>\n",
       "      <td>285</td>\n",
       "      <td>20677</td>\n",
       "      <td>209</td>\n",
       "      <td>15929</td>\n",
       "    </tr>\n",
       "    <tr>\n",
       "      <th>other</th>\n",
       "      <td>200</td>\n",
       "      <td>7621</td>\n",
       "      <td>169</td>\n",
       "      <td>6076</td>\n",
       "      <td>353</td>\n",
       "      <td>10376</td>\n",
       "      <td>299</td>\n",
       "      <td>8264</td>\n",
       "    </tr>\n",
       "    <tr>\n",
       "      <th>bulk</th>\n",
       "      <td>29</td>\n",
       "      <td>7715</td>\n",
       "      <td>23</td>\n",
       "      <td>5418</td>\n",
       "      <td>42</td>\n",
       "      <td>10177</td>\n",
       "      <td>20</td>\n",
       "      <td>8573</td>\n",
       "    </tr>\n",
       "  </tbody>\n",
       "</table>\n",
       "</div>"
      ],
      "text/plain": [
       "Region                Midwest                 Northeast              \\\n",
       "spending_flag   Higer spender Low spender Higer spender Low spender   \n",
       "department_name                                                       \n",
       "produce                 30884     2076218         21165     1560333   \n",
       "dairy eggs              27324     1169670         17421      886345   \n",
       "beverages               15360      575322          9726      447508   \n",
       "snacks                  12378      623916          8077      479527   \n",
       "frozen                  10930      483239          7773      362527   \n",
       "pantry                   8930      408248          6580      305815   \n",
       "bakery                   6589      253417          4786      193764   \n",
       "household                6389      159385          4391      120157   \n",
       "meat seafood             5269      151561          3768      114743   \n",
       "canned goods             4867      232082          3400      173919   \n",
       "dry goods pasta          4208      188556          2641      141500   \n",
       "deli                     3960      228478          2749      173868   \n",
       "breakfast                3480      152661          2392      115616   \n",
       "alcohol                  2932       31947          2646       22621   \n",
       "personal care            2495       96912          1652       73029   \n",
       "babies                   1194       91914           524       71047   \n",
       "international            1168       58884           703       43767   \n",
       "pets                     1152       20024           771       16655   \n",
       "missing                   224       15321           178       11498   \n",
       "other                     200        7621           169        6076   \n",
       "bulk                       29        7715            23        5418   \n",
       "\n",
       "Region                  South                      West              \n",
       "spending_flag   Higer spender Low spender Higer spender Low spender  \n",
       "department_name                                                      \n",
       "produce                 39405     2784801         31127     2255202  \n",
       "dairy eggs              34062     1574050         26266     1285248  \n",
       "beverages               17642      783778         14031      629365  \n",
       "snacks                  13440      839818         11544      690167  \n",
       "frozen                  14129      653811         11328      530207  \n",
       "pantry                  11624      542424          9355      444504  \n",
       "bakery                   8524      337807          7019      278975  \n",
       "household                7026      208593          6007      170816  \n",
       "meat seafood             6665      203902          5306      167392  \n",
       "canned goods             5975      311571          5517      253459  \n",
       "dry goods pasta          4727      251284          4080      207374  \n",
       "deli                     5327      306217          3905      250316  \n",
       "breakfast                4677      205249          3770      169702  \n",
       "alcohol                  3593       42056          2998       34436  \n",
       "personal care            2842      130552          2364      103484  \n",
       "babies                   1532      126329          1016       99610  \n",
       "international            1293       78143          1298       64310  \n",
       "pets                     1171       26842           796       23344  \n",
       "missing                   285       20677           209       15929  \n",
       "other                     353       10376           299        8264  \n",
       "bulk                       42       10177            20        8573  "
      ]
     },
     "execution_count": 48,
     "metadata": {},
     "output_type": "execute_result"
    }
   ],
   "source": [
    "crosstab_dep_reg_spen"
   ]
  },
  {
   "cell_type": "markdown",
   "id": "601824c8",
   "metadata": {},
   "source": [
    "# Produce suitable charts to illustrate your results and export them in your project folder."
   ]
  },
  {
   "cell_type": "code",
   "execution_count": 49,
   "id": "dc9acca1",
   "metadata": {},
   "outputs": [
    {
     "data": {
      "image/png": "[encoded data removed]",
      "text/plain": [
       "<Figure size 1000x600 with 1 Axes>"
      ]
     },
     "metadata": {},
     "output_type": "display_data"
    }
   ],
   "source": [
    "#plot the crosstab as a stacked bar chart\n",
    "crosstab_dep_reg_spen.plot(kind='bar', stacked=True, figsize=(10, 6))\n",
    "\n",
    "# set the title and axis labels\n",
    "plt.title('Department Spending by Region')\n",
    "plt.xlabel('Department')\n",
    "plt.ylabel('Count')\n",
    "\n",
    "# show the plot\n",
    "plt.show()"
   ]
  },
  {
   "cell_type": "code",
   "execution_count": 64,
   "id": "de0e00a9",
   "metadata": {},
   "outputs": [],
   "source": [
    "df_all_merge.to_pickle(os.path.join(path,'Data','prepared Data','4.10_df_merged'))"
   ]
  },
  {
   "cell_type": "code",
   "execution_count": null,
   "id": "0c2730c4",
   "metadata": {},
   "outputs": [],
   "source": []
  }
 ],
 "metadata": {
  "kernelspec": {
   "display_name": "Python 3 (ipykernel)",
   "language": "python",
   "name": "python3"
  },
  "language_info": {
   "codemirror_mode": {
    "name": "ipython",
    "version": 3
   },
   "file_extension": ".py",
   "mimetype": "text/x-python",
   "name": "python",
   "nbconvert_exporter": "python",
   "pygments_lexer": "ipython3",
   "version": "3.10.9"
  }
 },
 "nbformat": 4,
 "nbformat_minor": 5
}
