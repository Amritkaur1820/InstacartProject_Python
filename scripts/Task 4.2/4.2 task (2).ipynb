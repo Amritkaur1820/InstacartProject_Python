{
 "cells": [
  {
   "cell_type": "code",
   "execution_count": 23,
   "id": "0f877400",
   "metadata": {},
   "outputs": [
    {
     "name": "stdout",
     "output_type": "stream",
     "text": [
      "100\n",
      "100\n",
      "100\n"
     ]
    }
   ],
   "source": [
    "x = 50\n",
    "print(x*2)\n",
    "print(x+50)\n",
    "print(x+x)"
   ]
  },
  {
   "cell_type": "code",
   "execution_count": 24,
   "id": "11e99690",
   "metadata": {},
   "outputs": [
    {
     "name": "stdout",
     "output_type": "stream",
     "text": [
      "1.9090909090909092\n"
     ]
    }
   ],
   "source": [
    "x = 10.5\n",
    "y = 5.5\n",
    "print(x/y)"
   ]
  },
  {
   "cell_type": "code",
   "execution_count": 29,
   "id": "5f8a8df5",
   "metadata": {},
   "outputs": [
    {
     "name": "stdout",
     "output_type": "stream",
     "text": [
      "you will need to concatenate some strings!\n"
     ]
    }
   ],
   "source": [
    "string = \"you will need to concatenate some strings!\"\n",
    "print(string)"
   ]
  },
  {
   "cell_type": "code",
   "execution_count": 33,
   "id": "1b0f5244",
   "metadata": {},
   "outputs": [
    {
     "name": "stdout",
     "output_type": "stream",
     "text": [
      "Hi I am learing Phyton\n"
     ]
    }
   ],
   "source": [
    "x = \"Hi I am learing\"\n",
    "y = \" Phyton\"\n",
    "print(x + y)"
   ]
  },
  {
   "cell_type": "code",
   "execution_count": 38,
   "id": "f75cb1b0",
   "metadata": {},
   "outputs": [
    {
     "data": {
      "text/plain": [
       "' hello  hello  hello  hello  hello  hello  hello  hello  hello  hello  hello  hello  hello  hello  hello  hello  hello  hello  hello  hello  hello  hello  hello  hello  hello  hello  hello  hello  hello  hello  hello  hello  hello  hello  hello  hello  hello  hello  hello  hello  hello  hello  hello  hello  hello  hello  hello  hello  hello  hello  hello  hello  hello  hello  hello  hello  hello  hello  hello  hello  hello  hello  hello  hello  hello  hello  hello  hello  hello  hello  hello  hello  hello  hello  hello  hello  hello  hello  hello  hello  hello  hello  hello  hello  hello  hello  hello  hello  hello  hello  hello  hello  hello  hello  hello  hello  hello  hello  hello  hello '"
      ]
     },
     "execution_count": 38,
     "metadata": {},
     "output_type": "execute_result"
    }
   ],
   "source": [
    " x = \" hello \"\n",
    "x * 100\n",
    "    "
   ]
  },
  {
   "cell_type": "code",
   "execution_count": null,
   "id": "3b61be30",
   "metadata": {},
   "outputs": [],
   "source": []
  }
 ],
 "metadata": {
  "kernelspec": {
   "display_name": "Python 3 (ipykernel)",
   "language": "python",
   "name": "python3"
  },
  "language_info": {
   "codemirror_mode": {
    "name": "ipython",
    "version": 3
   },
   "file_extension": ".py",
   "mimetype": "text/x-python",
   "name": "python",
   "nbconvert_exporter": "python",
   "pygments_lexer": "ipython3",
   "version": "3.10.9"
  }
 },
 "nbformat": 4,
 "nbformat_minor": 5
}
